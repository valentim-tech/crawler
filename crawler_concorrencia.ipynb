{
 "cells": [
  {
   "cell_type": "code",
   "execution_count": 1,
   "metadata": {},
   "outputs": [
    {
     "name": "stdout",
     "output_type": "stream",
     "text": [
      "Requirement already satisfied: requests in c:\\users\\renato.valentim\\appdata\\local\\programs\\python\\python39\\lib\\site-packages (2.32.3)\n",
      "Requirement already satisfied: beautifulsoup4 in c:\\users\\renato.valentim\\appdata\\local\\programs\\python\\python39\\lib\\site-packages (4.13.3)\n",
      "Requirement already satisfied: pyspark in c:\\users\\renato.valentim\\appdata\\local\\programs\\python\\python39\\lib\\site-packages (3.5.4)\n",
      "Requirement already satisfied: idna<4,>=2.5 in c:\\users\\renato.valentim\\appdata\\local\\programs\\python\\python39\\lib\\site-packages (from requests) (3.10)\n",
      "Requirement already satisfied: charset-normalizer<4,>=2 in c:\\users\\renato.valentim\\appdata\\local\\programs\\python\\python39\\lib\\site-packages (from requests) (3.4.1)\n",
      "Requirement already satisfied: urllib3<3,>=1.21.1 in c:\\users\\renato.valentim\\appdata\\local\\programs\\python\\python39\\lib\\site-packages (from requests) (2.3.0)\n",
      "Requirement already satisfied: certifi>=2017.4.17 in c:\\users\\renato.valentim\\appdata\\local\\programs\\python\\python39\\lib\\site-packages (from requests) (2025.1.31)\n",
      "Requirement already satisfied: soupsieve>1.2 in c:\\users\\renato.valentim\\appdata\\local\\programs\\python\\python39\\lib\\site-packages (from beautifulsoup4) (2.6)\n",
      "Requirement already satisfied: typing-extensions>=4.0.0 in c:\\users\\renato.valentim\\appdata\\roaming\\python\\python39\\site-packages (from beautifulsoup4) (4.12.2)\n",
      "Requirement already satisfied: py4j==0.10.9.7 in c:\\users\\renato.valentim\\appdata\\local\\programs\\python\\python39\\lib\\site-packages (from pyspark) (0.10.9.7)\n",
      "Note: you may need to restart the kernel to use updated packages.\n"
     ]
    },
    {
     "name": "stderr",
     "output_type": "stream",
     "text": [
      "WARNING: You are using pip version 22.0.4; however, version 25.0.1 is available.\n",
      "You should consider upgrading via the 'c:\\Users\\renato.valentim\\AppData\\Local\\Programs\\Python\\Python39\\python.exe -m pip install --upgrade pip' command.\n"
     ]
    }
   ],
   "source": [
    "%pip install requests beautifulsoup4 pyspark"
   ]
  },
  {
   "cell_type": "code",
   "execution_count": 3,
   "metadata": {},
   "outputs": [],
   "source": [
    "import requests\n",
    "from bs4 import BeautifulSoup\n",
    "import json\n",
    "import time\n",
    "import pyspark.sql.functions as f\n",
    "from pyspark.sql import SparkSession\n",
    "\n",
    "spark = SparkSession.builder.appName(\"Crawler PySpark\").getOrCreate()"
   ]
  },
  {
   "cell_type": "code",
   "execution_count": 5,
   "metadata": {},
   "outputs": [],
   "source": [
    "MAIN_PATH = \"C:/Users/renato.valentim/Documents/ElasticSearch\"\n",
    "FILE_PATH = f\"{MAIN_PATH}/urls_concorrencia.csv\""
   ]
  },
  {
   "cell_type": "code",
   "execution_count": 13,
   "metadata": {},
   "outputs": [],
   "source": [
    "df = (\n",
    "  spark.read\n",
    "  .option(\"header\", True)\n",
    "  .option(\"inferSchema\", True)\n",
    "  .option(\"multiline\", True)  # Mantém valores multilinha dentro das células\n",
    "  .option(\"quote\", '\"')       # Garante que valores entre aspas sejam lidos corretamente\n",
    "  .option(\"escape\", \"\\\\\")     # Escape correto para caracteres especiais\n",
    "  .option(\"sep\", \",\")         # Define o delimitador correto\n",
    "  .option(\"ignoreLeadingWhiteSpace\", True)  # Evita espaços em branco extras\n",
    "  .option(\"ignoreTrailingWhiteSpace\", True) # Evita espaços em branco no final\n",
    "  .csv(FILE_PATH)\n",
    ")"
   ]
  },
  {
   "cell_type": "code",
   "execution_count": 14,
   "metadata": {},
   "outputs": [],
   "source": [
    "links_ofertas = [str(x.URLS) for x in df.collect()]"
   ]
  },
  {
   "cell_type": "code",
   "execution_count": 15,
   "metadata": {},
   "outputs": [],
   "source": [
    "# Função para extrair os dados da nova página\n",
    "def extrair_dados(url, id):\n",
    "    try:\n",
    "        headers = {'User-Agent': 'Mozilla/5.0 (Windows NT 10.0; Win64; x64) AppleWebKit/537.36 (KHTML, like Gecko) Chrome/91.0.4472.124 Safari/537.36'}\n",
    "        resposta = requests.get(url, headers=headers)\n",
    "        resposta.raise_for_status()\n",
    "        \n",
    "        soup = BeautifulSoup(resposta.text, 'html.parser')\n",
    "        \n",
    "        # Dicionário para armazenar todos os dados\n",
    "        dados = {'id': id, 'url': url}\n",
    "        \n",
    "        # 1. Extrair nome e descrição\n",
    "        secao_descricao = soup.find('div', class_='cav--c-eNhzRw-fiXSPN-sm-12')\n",
    "        if secao_descricao:\n",
    "            nome_produto = secao_descricao.find('span', class_='cav--c-gNPphv-hyvuql-weight-bold')\n",
    "            if nome_produto:\n",
    "                dados['nome'] = nome_produto.get_text(strip=True)\n",
    "            else:\n",
    "                dados['nome'] = 'N/A'\n",
    "                \n",
    "            descricao = secao_descricao.find('div', class_='cav--c-gNPphv-igBCBxe-css')\n",
    "            if descricao:\n",
    "                dados['descricao'] = descricao.get_text(strip=True)\n",
    "            else:\n",
    "                dados['descricao'] = 'N/A'\n",
    "        else:\n",
    "            print(f\"Seção de descrição não encontrada em {url}\")\n",
    "            dados['nome'] = 'N/A'\n",
    "            dados['descricao'] = 'N/A'\n",
    "        \n",
    "        # 2. Extrair tabelas de características\n",
    "        tabelas = soup.find_all('table', class_='cav--c-gusfms-gjkaP-striped-odd')\n",
    "        for tabela in tabelas:\n",
    "            linhas = tabela.find_all('tr', class_='cav--c-PJLV')\n",
    "            for linha in linhas:\n",
    "                colunas = linha.find_all('td', class_='cav--c-difWUU')\n",
    "                if len(colunas) == 2:\n",
    "                    atributo = colunas[0].get_text(strip=True)\n",
    "                    valor = colunas[1].get_text(strip=True)\n",
    "                    # Tratar o caso do Manual de Montagem (extrair o link)\n",
    "                    if atributo == 'Manual de Montagem':\n",
    "                        link_manual = colunas[1].find('a')\n",
    "                        valor = link_manual['href'] if link_manual else valor\n",
    "                    dados[atributo] = valor\n",
    "        \n",
    "        # 3. Extrair o JSON-LD\n",
    "        scripts = soup.find_all('script', type='application/ld+json')\n",
    "        for script in scripts:\n",
    "            try:\n",
    "                json_data = json.loads(script.string)\n",
    "                # Extrair breadcrumb\n",
    "                if json_data.get('@type') == 'BreadcrumbList':\n",
    "                    categorias = [item['item']['name'] for item in json_data.get('itemListElement', [])]\n",
    "                    dados['caminho_categoria'] = ' > '.join(categorias)\n",
    "                \n",
    "                # Extrair dados do produto (se houver @type: \"Product\")\n",
    "                if json_data.get('@type') == 'Product':\n",
    "                    dados['productID'] = json_data.get('productID', 'N/A')\n",
    "                    dados['sku'] = json_data.get('sku', 'N/A')\n",
    "                    dados['imagem'] = json_data.get('image', 'N/A')\n",
    "                    dados['marca_json'] = json_data.get('brand', {}).get('name', 'N/A')\n",
    "                    dados['condicao'] = json_data.get('itemCondition', 'N/A')\n",
    "                    if 'offers' in json_data and json_data['offers']:\n",
    "                        oferta = json_data['offers'][0] if isinstance(json_data['offers'], list) else json_data['offers']\n",
    "                        dados['preco'] = oferta.get('price', 'N/A')\n",
    "                        dados['moeda'] = oferta.get('priceCurrency', 'N/A')\n",
    "                        dados['disponibilidade'] = oferta.get('availability', 'N/A')\n",
    "            except json.JSONDecodeError:\n",
    "                continue\n",
    "        \n",
    "        return dados\n",
    "    \n",
    "    except Exception as e:\n",
    "        print(f\"Erro ao processar {url}: {e}\")\n",
    "        return None"
   ]
  },
  {
   "cell_type": "code",
   "execution_count": 16,
   "metadata": {},
   "outputs": [
    {
     "name": "stdout",
     "output_type": "stream",
     "text": [
      "Erro ao processar https://www.madeiramadeira.com.br/guarda-roupa-casal-com-espelho-3-portas-4-gavetas-188: 404 Client Error: Not Found for url: https://www.madeiramadeira.com.br/guarda-roupa-casal-com-espelho-3-portas-4-gavetas-188\n",
      "Dados salvos em 'caracteristicas_ofertas_madeira.json'\n"
     ]
    }
   ],
   "source": [
    "# Lista para armazenar os dados\n",
    "dados_ofertas = []\n",
    "\n",
    "# Processar os links com IDs sequenciais\n",
    "for id, link in enumerate(links_ofertas, start=1):\n",
    "    dados = extrair_dados(link, id)\n",
    "    if dados:\n",
    "        dados_ofertas.append(dados)\n",
    "    time.sleep(1)  # Delay para evitar bloqueios\n",
    "\n",
    "# Salvar em JSON\n",
    "with open('caracteristicas_ofertas_madeira.json', 'w', encoding='utf-8') as arquivo_json:\n",
    "    json.dump(dados_ofertas, arquivo_json, ensure_ascii=False, indent=4)\n",
    "\n",
    "print(\"Dados salvos em 'caracteristicas_ofertas_madeira.json'\")"
   ]
  }
 ],
 "metadata": {
  "kernelspec": {
   "display_name": "Python 3",
   "language": "python",
   "name": "python3"
  },
  "language_info": {
   "codemirror_mode": {
    "name": "ipython",
    "version": 3
   },
   "file_extension": ".py",
   "mimetype": "text/x-python",
   "name": "python",
   "nbconvert_exporter": "python",
   "pygments_lexer": "ipython3",
   "version": "3.9.13"
  }
 },
 "nbformat": 4,
 "nbformat_minor": 2
}
